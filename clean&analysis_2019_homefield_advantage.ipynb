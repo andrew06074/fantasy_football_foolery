Home field advantage in the 2019-2020 NFL season
Goal and data source
The following is an analysis of the 2019-2020 NFL season and the games that were played. The purpose of this analysis is to evelauate the statistical advantage that playing as the home team has.

Start by taking the data provided from https://www.pro-football-reference.com/years/2019/games.htm

import numpy as np
import pandas as pd
from matplotlib import pyplot as plt
df = pd.read_csv('playoff_data_2019.csv')
df.columns = ['Week','Day','Date','Time','Winner','win_at_home','Loser','box','PtsW','PtsL','YdsW','TOW','YdsL','TOL']
df
Week	Day	Date	Time	Winner	win_at_home	Loser	box	PtsW	PtsL	YdsW	TOW	YdsL	TOL
0	1	Thu	5-Sep	8:20PM	Green Bay Packers	@	Chicago Bears	boxscore	10	3	213	0	254	1
1	1	Sun	8-Sep	1:00PM	Tennessee Titans	@	Cleveland Browns	boxscore	43	13	339	0	346	3
2	1	Sun	8-Sep	1:00PM	Minnesota Vikings	NaN	Atlanta Falcons	boxscore	28	12	269	0	345	3
3	1	Sun	8-Sep	1:00PM	Philadelphia Eagles	NaN	Washington Redskins	boxscore	32	27	436	0	398	0
4	1	Sun	8-Sep	1:00PM	Los Angeles Rams	@	Carolina Panthers	boxscore	30	27	349	1	343	3
...	...	...	...	...	...	...	...	...	...	...	...	...	...	...
251	17	Sun	29-Dec	4:25PM	Philadelphia Eagles	@	New York Giants	boxscore	34	17	400	0	397	2
252	17	Sun	29-Dec	4:25PM	Dallas Cowboys	NaN	Washington Redskins	boxscore	47	16	517	1	271	2
253	17	Sun	29-Dec	4:25PM	Baltimore Ravens	NaN	Pittsburgh Steelers	boxscore	28	10	304	2	168	2
254	17	Sun	29-Dec	4:25PM	Los Angeles Rams	NaN	Arizona Cardinals	boxscore	31	24	424	0	393	5
255	17	Sun	29-Dec	8:20PM	San Francisco 49ers	@	Seattle Seahawks	boxscore	26	21	398	0	348	0
256 rows × 14 columns

Clean-up
The data is far from perfect here, cleaning it will all for it to be better utilized. The win_at_home column will be used to identify games where the home team won. Adding point differientials will allow for further analysis in the future.

home_team = df.win_at_home + df.Loser
home_team = home_team.replace(np.nan,'yes')
home_team[home_team != 'yes']='no'
df['win_at_home'] = home_team
point_dif = df.PtsW - df.PtsL 
df['point_dif'] = point_dif
yards_dif = df.YdsW - df.YdsL
df['yards_dif'] = yards_dif
df = df.drop(columns = ['box'])
df
Week	Day	Date	Time	Winner	win_at_home	Loser	PtsW	PtsL	YdsW	TOW	YdsL	TOL	point_dif	yards_dif
0	1	Thu	5-Sep	8:20PM	Green Bay Packers	no	Chicago Bears	10	3	213	0	254	1	7	-41
1	1	Sun	8-Sep	1:00PM	Tennessee Titans	no	Cleveland Browns	43	13	339	0	346	3	30	-7
2	1	Sun	8-Sep	1:00PM	Minnesota Vikings	yes	Atlanta Falcons	28	12	269	0	345	3	16	-76
3	1	Sun	8-Sep	1:00PM	Philadelphia Eagles	yes	Washington Redskins	32	27	436	0	398	0	5	38
4	1	Sun	8-Sep	1:00PM	Los Angeles Rams	no	Carolina Panthers	30	27	349	1	343	3	3	6
...	...	...	...	...	...	...	...	...	...	...	...	...	...	...	...
251	17	Sun	29-Dec	4:25PM	Philadelphia Eagles	no	New York Giants	34	17	400	0	397	2	17	3
252	17	Sun	29-Dec	4:25PM	Dallas Cowboys	yes	Washington Redskins	47	16	517	1	271	2	31	246
253	17	Sun	29-Dec	4:25PM	Baltimore Ravens	yes	Pittsburgh Steelers	28	10	304	2	168	2	18	136
254	17	Sun	29-Dec	4:25PM	Los Angeles Rams	yes	Arizona Cardinals	31	24	424	0	393	5	7	31
255	17	Sun	29-Dec	8:20PM	San Francisco 49ers	no	Seattle Seahawks	26	21	398	0	348	0	5	50
256 rows × 15 columns

Results overview
Total results overview

df['win_at_home'].value_counts()
yes    132
no     124
Name: win_at_home, dtype: int64
df['win_at_home'].value_counts(normalize=True)
yes    0.515625
no     0.484375
Name: win_at_home, dtype: float64
These results show that during the 2019-2020 season the home team had an advantage of winning the game. The home team had a 51.5625% chance to win while the away team had a 48.4375% change to win the game.

While these results alone do not show a significant adavantage for the home team, perhaps there are more drastic data trends lying below the surface.

Begin by showing results based on the day of the week that the game was played.

Thursday Games (8:20 PM EST Games)
thursday_games = df.loc[df['Day'] == 'Thu']
thursday_games['win_at_home'].value_counts()
yes    9
no     8
Name: win_at_home, dtype: int64
Total Sunday Games
sunday_games = df.loc[df['Day'] == 'Sun']
sunday_games['win_at_home'].value_counts()
yes    112
no     107
Name: win_at_home, dtype: int64
Sunday Morning (9:30 AM EST Games)
sunday_morning = sunday_games.loc[sunday_games['Time'] == '9:30AM']
sunday_morning['win_at_home'].value_counts()
no    2
Name: win_at_home, dtype: int64
Sunday Morning (1:00 PM EST Games)
sunday_morning = sunday_games.loc[sunday_games['Time'] == '1:00PM']
sunday_morning['win_at_home'].value_counts()
sunday_morning = sunday_games.loc[sunday_games['Time'] == '1:00PM']
sunday_morning['win_at_home'].value_counts()
yes    69
no     67
Name: win_at_home, dtype: int64
Sunday Afternoon (4:25 PM EST Games)
sunday_afternoon = sunday_games.loc[sunday_games['Time'] == '4:25PM']
sunday_afternoon['win_at_home'].value_counts()
yes    23
no     17
Name: win_at_home, dtype: int64
Sunday Night (8:20 PM EST Games)
sunday_night = sunday_games.loc[sunday_games['Time'] == '8:20PM']
sunday_night['win_at_home'].value_counts()
yes    9
no     8
Name: win_at_home, dtype: int64
Monday Games (8:15 PM EST Games)
monday_games = df.loc[df['Day'] == 'Mon']
monday_games['win_at_home'].value_counts()
yes    9
no     8
Name: win_at_home, dtype: int64
Analysis of time slot: Did time of game have an effect
Out of the total games played during the 2019-2020 nfl season (265) thursday and monday games accounted for 13% of the schedule (34). Both of these time slots are classified as prime-time slots (Thursday @ 8:20PM and Monday @ 8:15PM)and had a win/loss of 52.9% for the home team (9/17). The Sunday games had a total win/loss of 51.5% (132/256) and make up a majority of football schedule slots at 85.5% of the schedule (219). From the three windows the win/loss ratio was similar across all time slots and in line with slots from tursday and sunday night. The one exception to this is the Sunday afternoon slot (4:25 PM) which had a a win/loss percentage of 57.5% out of 40 games (23/40).

Calculations:
Thursday Games (8:20 PM Est): 9 wins for home team, 8 losses, 17 games played, 6.6425% of total schedule

Sunday Morning (9:30 AM Est): 2 losses, 2 games played, .78125% of games played

Sunday Morning (1:00 PM Est): 69 wins, 67 losses, 137 games played, 53.515% of games played

Sunday Afternoon (4:25 PM Est): 23 wins, 17 losses, 40 games played, 57.5% of games played

Sunday Night (8:20 PM Est): 9 wins for home team, 8 losses, 17 games played, 6.6425% of total schedule

Monday Games (8:15 PM Est): 9 wins for home team, 8 losses, 17 games played, 6.6425% of total schedule

thursday & monday games (non sunday games - prime time) - 34/256 = 13% of games thursday 9 win / 8 losses - monday 9 wins / 8 losses - both have win/loss of 52.9%

sunday games 132/256 - 132 wins / 124 losses - total win loss of 51.5%

sunday 4:25 pm est slot is an outlier - 23 wins out of 40 games - 57.52% win/loss - 15.625% of games scheduled¶
